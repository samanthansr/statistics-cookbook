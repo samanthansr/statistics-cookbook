{
 "cells": [
  {
   "cell_type": "markdown",
   "metadata": {},
   "source": [
    "### Hypothesis Testing"
   ]
  },
  {
   "cell_type": "markdown",
   "metadata": {},
   "source": [
    "pooled, unpooled, assuming the control to be correct\n",
    "https://stats.stackexchange.com/questions/354556/what-is-the-standard-error-for-hypothesis-testing-of-two-proportions-using-a-z-t?rq=1"
   ]
  },
  {
   "cell_type": "code",
   "execution_count": 1,
   "metadata": {},
   "outputs": [],
   "source": [
    "import re\n",
    "\n",
    "import numpy as np\n",
    "import scipy.stats as scs\n",
    "\n",
    "import pandas as pd\n",
    "import matplotlib.pyplot as plt\n",
    "from matplotlib.ticker import FormatStrFormatter, MaxNLocator\n",
    "import seaborn as sns\n",
    "\n",
    "pd.set_option('display.max_columns', 30)\n",
    "sns.set_style('white')\n",
    "%config InlineBackend.figure_format = 'retina'\n",
    "%matplotlib inline\n",
    "\n",
    "import ipywidgets as widgets\n",
    "from ipywidgets import interact\n",
    "\n",
    "from statsmodels.stats.proportion import proportions_ztest"
   ]
  },
  {
   "cell_type": "code",
   "execution_count": null,
   "metadata": {},
   "outputs": [],
   "source": []
  },
  {
   "cell_type": "markdown",
   "metadata": {},
   "source": [
    "### Binomial Random Variables"
   ]
  },
  {
   "cell_type": "code",
   "execution_count": 9,
   "metadata": {},
   "outputs": [
    {
     "data": {
      "text/html": [
       "<div>\n",
       "<style scoped>\n",
       "    .dataframe tbody tr th:only-of-type {\n",
       "        vertical-align: middle;\n",
       "    }\n",
       "\n",
       "    .dataframe tbody tr th {\n",
       "        vertical-align: top;\n",
       "    }\n",
       "\n",
       "    .dataframe thead th {\n",
       "        text-align: right;\n",
       "    }\n",
       "</style>\n",
       "<table border=\"1\" class=\"dataframe\">\n",
       "  <thead>\n",
       "    <tr style=\"text-align: right;\">\n",
       "      <th></th>\n",
       "      <th>group</th>\n",
       "      <th>converted</th>\n",
       "    </tr>\n",
       "  </thead>\n",
       "  <tbody>\n",
       "    <tr>\n",
       "      <th>0</th>\n",
       "      <td>A</td>\n",
       "      <td>0</td>\n",
       "    </tr>\n",
       "    <tr>\n",
       "      <th>1</th>\n",
       "      <td>A</td>\n",
       "      <td>1</td>\n",
       "    </tr>\n",
       "    <tr>\n",
       "      <th>2</th>\n",
       "      <td>A</td>\n",
       "      <td>0</td>\n",
       "    </tr>\n",
       "    <tr>\n",
       "      <th>3</th>\n",
       "      <td>A</td>\n",
       "      <td>0</td>\n",
       "    </tr>\n",
       "    <tr>\n",
       "      <th>4</th>\n",
       "      <td>A</td>\n",
       "      <td>1</td>\n",
       "    </tr>\n",
       "  </tbody>\n",
       "</table>\n",
       "</div>"
      ],
      "text/plain": [
       "  group  converted\n",
       "0     A          0\n",
       "1     A          1\n",
       "2     A          0\n",
       "3     A          0\n",
       "4     A          1"
      ]
     },
     "execution_count": 9,
     "metadata": {},
     "output_type": "execute_result"
    }
   ],
   "source": [
    "def generate_binomial_data(n_A, n_B, p_A, p_B):\n",
    "    \n",
    "    \"\"\"\n",
    "    Returns a pandas dataframe with random variables \n",
    "    following a binomial distribution.\n",
    "    \n",
    "    Parameters:\n",
    "    n_A (int): Sample size for control group\n",
    "    n_B (int): Sample size for experiment group\n",
    "    p_A (float): Conversion rate of control group\n",
    "    p_B (float): Conversion rate of experiment group\n",
    "    \n",
    "    Returns: \n",
    "    df\n",
    "    \n",
    "    \"\"\"\n",
    "    \n",
    "    generated_values_A = scs.bernoulli(p_A).rvs(n_A)\n",
    "    generated_values_B = scs.bernoulli(p_B).rvs(n_B)\n",
    "    \n",
    "    df = pd.DataFrame({\n",
    "        'A': generated_values_A,\n",
    "        'B': generated_values_B\n",
    "    }).melt().rename(columns={'variable': 'group', \n",
    "                              'value': 'converted'})\n",
    "         \n",
    "    \n",
    "    return df\n",
    "\n",
    "ab_data = generate_binomial_data(100, 100, 0.5, 0.4)\n",
    "ab_data.head()"
   ]
  },
  {
   "cell_type": "code",
   "execution_count": 3,
   "metadata": {},
   "outputs": [
    {
     "data": {
      "text/html": [
       "<div>\n",
       "<style scoped>\n",
       "    .dataframe tbody tr th:only-of-type {\n",
       "        vertical-align: middle;\n",
       "    }\n",
       "\n",
       "    .dataframe tbody tr th {\n",
       "        vertical-align: top;\n",
       "    }\n",
       "\n",
       "    .dataframe thead th {\n",
       "        text-align: right;\n",
       "    }\n",
       "</style>\n",
       "<table border=\"1\" class=\"dataframe\">\n",
       "  <thead>\n",
       "    <tr style=\"text-align: right;\">\n",
       "      <th></th>\n",
       "      <th>converted</th>\n",
       "      <th>total</th>\n",
       "      <th>rate</th>\n",
       "    </tr>\n",
       "    <tr>\n",
       "      <th>group</th>\n",
       "      <th></th>\n",
       "      <th></th>\n",
       "      <th></th>\n",
       "    </tr>\n",
       "  </thead>\n",
       "  <tbody>\n",
       "    <tr>\n",
       "      <th>A</th>\n",
       "      <td>47.0</td>\n",
       "      <td>100.0</td>\n",
       "      <td>0.47</td>\n",
       "    </tr>\n",
       "    <tr>\n",
       "      <th>B</th>\n",
       "      <td>37.0</td>\n",
       "      <td>100.0</td>\n",
       "      <td>0.37</td>\n",
       "    </tr>\n",
       "  </tbody>\n",
       "</table>\n",
       "</div>"
      ],
      "text/plain": [
       "       converted  total  rate\n",
       "group                        \n",
       "A           47.0  100.0  0.47\n",
       "B           37.0  100.0  0.37"
      ]
     },
     "execution_count": 3,
     "metadata": {},
     "output_type": "execute_result"
    }
   ],
   "source": [
    "# contingency table\n",
    "def contingency_table(df):\n",
    "    \n",
    "    pivot = pd.pivot_table(df, \n",
    "                           index='group', \n",
    "                           aggfunc = {'converted': [np.sum,\n",
    "                                                    lambda x: len(x),\n",
    "                                                    np.mean]})\n",
    "    \n",
    "    # dropping redundant level 'converted'\n",
    "    pivot.columns = pivot.columns.droplevel(0)\n",
    "    \n",
    "    # rename columns\n",
    "    pivot.rename(columns={'<lambda>': 'total',\n",
    "                          'mean': 'rate', \n",
    "                          'sum': 'converted'}, inplace=True)\n",
    "    \n",
    "    \n",
    "    return pivot[['converted', 'total', 'rate']]\n",
    "\n",
    "contingency_table(ab_data)"
   ]
  },
  {
   "cell_type": "markdown",
   "metadata": {},
   "source": [
    "What is a Binomial Random Variable?\n",
    "- There can only be 2 outcomes for each trial\n",
    "- Probability of success has to be the same for each trial\n",
    "- Fixed number of trials\n",
    "\n",
    "X ~ B(n, p)\n",
    "\n",
    "E(X) = np <br>\n",
    "The mean of Binomial RV X = np\n",
    "\n",
    "Var(X) = p(1-p) <br>\n",
    "The variance of Binomial RV X = p(1-p)"
   ]
  },
  {
   "cell_type": "code",
   "execution_count": 11,
   "metadata": {},
   "outputs": [],
   "source": [
    "def manual_binomial_stats(n, p):\n",
    "    \"\"\"\n",
    "    Returns the mean and variance of a Binomial Random Variable\n",
    "    \n",
    "    Parameters:\n",
    "    n (int): number of trials\n",
    "    p (float): probability of success for each trial\n",
    "    \n",
    "    Output: \n",
    "    tuple: (mean, variance)\n",
    "    \"\"\"\n",
    "    \n",
    "    mean = n * p\n",
    "    variance = p * (1-p)\n",
    "    \n",
    "    return (mean, variance)"
   ]
  },
  {
   "cell_type": "code",
   "execution_count": 12,
   "metadata": {},
   "outputs": [
    {
     "data": {
      "text/plain": [
       "(50.0, 0.25)"
      ]
     },
     "execution_count": 12,
     "metadata": {},
     "output_type": "execute_result"
    }
   ],
   "source": [
    "manual_binomial_stats(100, 0.5)"
   ]
  },
  {
   "cell_type": "code",
   "execution_count": 13,
   "metadata": {},
   "outputs": [
    {
     "data": {
      "text/plain": [
       "(array(50.), array(25.))"
      ]
     },
     "execution_count": 13,
     "metadata": {},
     "output_type": "execute_result"
    }
   ],
   "source": [
    "scs.binom(100, 0.5).stats()"
   ]
  },
  {
   "cell_type": "code",
   "execution_count": 14,
   "metadata": {},
   "outputs": [
    {
     "name": "stdout",
     "output_type": "stream",
     "text": [
      "Variance of Array:  0.24839999999999995\n"
     ]
    }
   ],
   "source": [
    "print('Variance of Array: ', \n",
    "      np.var(ab_data[ab_data['group']=='A']['converted']))"
   ]
  },
  {
   "cell_type": "code",
   "execution_count": 15,
   "metadata": {},
   "outputs": [],
   "source": [
    "def plot_binomial_distribution(n, p):\n",
    "    \n",
    "    fig, ax = plt.subplots(figsize=(12,6))\n",
    "    x = np.linspace(start=0, stop=n, num=n+1)\n",
    "    y = scs.binom(n, p).pmf(x)\n",
    "    \n",
    "    plt.xlabel('# of Successes')\n",
    "    plt.ylabel('Probability Distribution Function (PDF)')\n",
    "\n",
    "    return ax.bar(x, y)"
   ]
  },
  {
   "cell_type": "code",
   "execution_count": 16,
   "metadata": {
    "scrolled": false
   },
   "outputs": [
    {
     "data": {
      "application/vnd.jupyter.widget-view+json": {
       "model_id": "8d144a1f1c004e61b1101d1757a5c6e1",
       "version_major": 2,
       "version_minor": 0
      },
      "text/plain": [
       "interactive(children=(IntSlider(value=50, description='n'), FloatSlider(value=0.0, description='p', max=1.0), …"
      ]
     },
     "metadata": {},
     "output_type": "display_data"
    }
   ],
   "source": [
    "interact(plot_binomial_distribution, n=(0, 100), p=(0, 1, 0.1));"
   ]
  },
  {
   "cell_type": "code",
   "execution_count": 210,
   "metadata": {
    "scrolled": true
   },
   "outputs": [
    {
     "name": "stdout",
     "output_type": "stream",
     "text": [
      "Group Labelgroup\n",
      "Group Names in ArrayA, B\n",
      "Result Labelconverted\n"
     ]
    }
   ],
   "source": [
    "class ABTest:\n",
    "    \n",
    "    def __init__(self, df=None, \n",
    "                 n_A=None, converted_A=None, \n",
    "                 n_B=None, converted_B=None):\n",
    "        \n",
    "        if (df is None) & (n_A is None \n",
    "                           and converted_A is None \n",
    "                           and n_B is None \n",
    "                           and converted_B is None):\n",
    "            raise Exception('Input either a df or parameters for n_A, converted_A, n_B and converted_B')\n",
    "            \n",
    "        elif (df is None) & (n_A is None \n",
    "                             or converted_A is None \n",
    "                             or n_B is None \n",
    "                             or converted_B is None):\n",
    "            raise Exception('Input all fields for n_A, converted_A, n_B, converted_B')\n",
    "        \n",
    "        elif df is not None:\n",
    "            self.raw_data = df\n",
    "            self.group_label = input('Group Label')\n",
    "            self.group_names = re.sub('(?<=,)[\\s]', '', input('Group Names in Array')).split(',')\n",
    "            self.result_label = input('Result Label')\n",
    "            \n",
    "            self.n_A = len(df[df[self.group_label]==self.group_names[0]])\n",
    "            self.converted_A = len(df[(df[self.group_label]==self.group_names[0]) & \n",
    "                                      (df[self.result_label]==1)])\n",
    "            self.p_A = self.converted_A / self.n_A\n",
    "            \n",
    "            self.n_B = len(df[df[self.group_label]==self.group_names[1]])\n",
    "            self.converted_B = len(df[(df[self.group_label]==self.group_names[1]) & \n",
    "                                      (df[self.result_label]==1)])\n",
    "            self.p_B = self.converted_B / self.n_B\n",
    "            \n",
    "        elif df is None:\n",
    "            \n",
    "            self.n_A = n_A\n",
    "            self.converted_A = converted_A\n",
    "            self.p_A = converted_A / n_A\n",
    "            \n",
    "            self.n_B = n_B\n",
    "            self.converted_B = converted_B\n",
    "            self.p_B = converted_B / n_B\n",
    "            \n",
    "    def contingency_table(self):\n",
    "        pivot = pd.pivot_table(self.raw_data, \n",
    "                               index=self.group_label, \n",
    "                               aggfunc = {self.result_label: [np.sum,\n",
    "                                                              lambda x: len(x),\n",
    "                                                              np.mean]})\n",
    "\n",
    "        # dropping redundant level 'converted'\n",
    "        pivot.columns = pivot.columns.droplevel(0)\n",
    "\n",
    "        # rename columns\n",
    "        pivot.rename(columns={'<lambda>': 'total',\n",
    "                              'mean': 'rate', \n",
    "                              'sum': 'converted'}, inplace=True)\n",
    "\n",
    "\n",
    "        return pivot[['converted', 'total', 'rate']]\n",
    "    \n",
    "    def plot_binomial_distribution(self):\n",
    "        \n",
    "        fig, ax = plt.subplots(figsize=(12,6))\n",
    "        \n",
    "        x_A = np.linspace(start=0, stop=self.n_A, num=self.n_A+1)\n",
    "        y_A = scs.binom(self.n_A, self.p_A).pmf(x_A)\n",
    "\n",
    "        x_B = np.linspace(start=0, stop=self.n_B, num=self.n_B+1)\n",
    "        y_B = scs.binom(self.n_B, self.p_B).pmf(x_B)\n",
    "\n",
    "        ax.bar(x_A, y_A, alpha=0.5, label='control/null', color='cornflowerblue')\n",
    "        ax.bar(x_B, y_B, alpha=0.5, label='experiment/alternate', color='lightcoral')\n",
    "\n",
    "        plt.xlabel('# of Successes')\n",
    "        plt.ylabel('Probability Mass Function (PMF)')\n",
    "        plt.legend();\n",
    "    \n",
    "    def plot_sampling_dist(self):\n",
    "        \n",
    "        SE_A = np.sqrt(self.p_A * (1 - self.p_A) / n_A)\n",
    "        SE_B = np.sqrt(self.p_B * (1 - self.p_B) / n_B)\n",
    "        \n",
    "        fig, ax = plt.subplots(figsize=(12,6))\n",
    "        \n",
    "        x = np.linspace(0, 1, 100)\n",
    "        \n",
    "        y_A = scs.norm(self.p_A, SE_A).pdf(x)\n",
    "        ax.plot(x, y_A, label='control/null', c='cornflowerblue')\n",
    "        ax.axvline(x=self.p_A, linestyle='--', c='cornflowerblue')\n",
    "        \n",
    "        y_B = scs.norm(self.p_B, SE_B).pdf(x)\n",
    "        ax.plot(x, y_B, label='experiment/alternate', c='lightcoral')\n",
    "        ax.axvline(x=self.p_B, linestyle='--', c='lightcoral')\n",
    "        \n",
    "        plt.xlabel('Sample Proportion')\n",
    "        plt.ylabel('Probability Density Function (PDF)')\n",
    "        plt.legend();\n",
    "        \n",
    "\n",
    "    def plot_sampling_dist_of_difference(self):\n",
    "        \n",
    "        delta = self.p_B - self.p_A\n",
    "        pooled_proportion = (self.converted_A + self.converted_B) / (self.n_A + self.n_B)\n",
    "        std_error_pooled = np.sqrt(pooled_proportion * (1 - pooled_proportion) * (1/self.n_A + 1/self.n_B))\n",
    "        \n",
    "        fig, ax = plt.subplots(figsize=(12,6))\n",
    "        \n",
    "        x = np.linspace(-1, 1, 100)\n",
    "        \n",
    "        y_null = scs.norm(0, std_error_pooled).pdf(x)   # 0 because null hypothesis is no difference\n",
    "        ax.plot(x, y_null, label='control/null', c='cornflowerblue')\n",
    "        ax.axvline(x=0, linestyle='--', c='lightgrey')\n",
    "        \n",
    "        y_alt = scs.norm(delta, std_error_pooled).pdf(x)\n",
    "        ax.plot(x, y_alt, label='experiment/alternate', c='lightcoral')\n",
    "        ax.axvline(x=delta, linestyle='--', c='lightcoral')\n",
    "        \n",
    "        plt.xlabel('Difference in Sample Proportions')\n",
    "        plt.ylabel('Probability Density FUnction (PDF)')\n",
    "        plt.legend();\n",
    "        \n",
    "    def plot_sampling_dist_of_difference_standardized(self, sig_level, alternative, \n",
    "                                                      show_alpha=False, show_pvalue=True,\n",
    "                                                      show_beta=False, show_power=True):\n",
    "        \n",
    "        delta = self.p_B - self.p_A\n",
    "        pooled_proportion = (self.converted_A + self.converted_B) / (self.n_A + self.n_B)\n",
    "        std_error_pooled = np.sqrt(pooled_proportion * (1 - pooled_proportion) * (1/self.n_A + 1/self.n_B))\n",
    "        \n",
    "        Z_value = (delta - 0) / std_error_pooled\n",
    "        \n",
    "        if alternative == 'smaller':\n",
    "            critical_value = scs.norm(0, 1).ppf(sig_level)\n",
    "        elif alternative == 'larger':\n",
    "            critical_value = scs.norm(0, 1).ppf(1 - sig_level)\n",
    "        elif alternative == 'two-tailed':\n",
    "            critical_value = [scs.norm(0, 1).ppf(sig_level / 2), scs.norm(0, 1).ppf(1 - (sig_level / 2))]\n",
    "        \n",
    "        fig, ax = plt.subplots(figsize=(12,6))\n",
    "        \n",
    "        x = np.linspace(-4, 4, 1000)\n",
    "        \n",
    "        y_null = scs.norm(0, 1).pdf(x)\n",
    "        ax.plot(x, y_null, label='control/null', c='cornflowerblue')\n",
    "        ax.axvline(x=Z_value, linestyle='--', c='cornflowerblue')\n",
    "        \n",
    "        if alternative == 'two-tailed':\n",
    "            ax.axvline(x=critical_value[0], linestyle = '--', c='black')\n",
    "            ax.axvline(x=critical_value[1], linestyle = '--', c='black')\n",
    "        else: \n",
    "            ax.axvline(x=critical_value, linestyle = '--', c='black')\n",
    "        \n",
    "        y_alt = scs.norm(Z_value, 1).pdf(x)\n",
    "        ax.plot(x, y_alt, label='experiment/alternate', c='lightcoral', linestyle='--')\n",
    "        \n",
    "        z_score, pval = self.calculate_test_results()\n",
    "        Z_beta = critical_value - z_score\n",
    "        power = scs.norm.cdf(Z_beta)\n",
    "        \n",
    "        if show_alpha:\n",
    "            ### SHADING IN ALPHA/SIG. LEVEL ###\n",
    "            ax.fill_between(x, 0, y_null, color='grey', alpha=0.25, where=(x < critical_value))\n",
    "            ax.text(-2.5, 0, '$\\\\alpha = 0.05$', bbox={'facecolor':'grey', 'alpha':0.25})\n",
    "            ax.text(critical_value, 0.40, '$Z_{\\\\alpha}$' + ' = {:.3f}'.format(critical_value), \n",
    "                    bbox={'facecolor':'white', 'alpha':0.5}, horizontalalignment='center')\n",
    "        \n",
    "        if show_pvalue:\n",
    "            ### SHADING IN P-VALUE ###\n",
    "            ax.fill_between(x, 0, y_null, color='cornflowerblue', alpha=0.25, where=(x < Z_value))\n",
    "            ax.text(-1.5, 0.05, 'p-value = {:.3f}'.format(pval), style='italic', bbox={'facecolor':'cornflowerblue', \n",
    "                                                                                       'alpha':0.25})\n",
    "            ax.text(z_score, 0.40, '$Z$' + ' = {:.3f}'.format(z_score), \n",
    "                    bbox={'facecolor':'cornflowerblue', 'alpha':0.5}, horizontalalignment='center')\n",
    "        \n",
    "        if show_power:\n",
    "            ### SHADING IN POWER ###\n",
    "            ax.fill_between(x, 0, y_alt, color='lightcoral', alpha=0.25, where=(x < critical_value))\n",
    "            ax.text(-2.8, 0.1, '$1 - \\\\beta$' + ' = {:.3f}'.format(power), style='italic', \n",
    "                    bbox={'facecolor':'lightcoral', \n",
    "                          'alpha':0.25})\n",
    "        \n",
    "        if show_beta:\n",
    "            ### SHADING IN BETA (TYPE II ERROR) ###\n",
    "            ax.fill_between(x, 0, y_alt, color='lightcoral', alpha=0.25, where=(x > critical_value))\n",
    "            ax.text(0, 0.25, '$\\\\beta$' + ' = {:.3f}'.format(1-power), style='italic', \n",
    "                    bbox={'facecolor':'lightcoral', \n",
    "                          'alpha':0.25})\n",
    "        \n",
    "        \n",
    "        plt.xlabel('Z-value, relative to the NULL hypothesis')\n",
    "        plt.ylabel('Probability Density Function (PDF)')\n",
    "        plt.legend();\n",
    "        \n",
    "    def calculate_test_results(self, \n",
    "                               c_A=dummydata.converted_A, \n",
    "                               c_B=dummydata.converted_B, \n",
    "                               n_A=dummydata.n_A, \n",
    "                               n_B=dummydata.n_B):\n",
    "    \n",
    "        count = np.array([c_B, c_A])\n",
    "        nobs = np.array([n_B, n_A])\n",
    "        value = 0 \n",
    "        z_score, pval = proportions_ztest(count, nobs, value, \n",
    "                                          alternative = 'smaller',\n",
    "                                          prop_var = False)\n",
    "\n",
    "        return (z_score, pval)\n",
    "        \n",
    "# calculate z score, pvalue and confidence intervals\n",
    "\n",
    "\n",
    "        \n",
    "dummydata = ABTest(ab_data)\n",
    "# dummydata = ABTest(n_A=100, converted_A=35, n_B=120, converted_B=42)\n",
    "    \n",
    "    "
   ]
  },
  {
   "cell_type": "code",
   "execution_count": 198,
   "metadata": {},
   "outputs": [],
   "source": [
    "#interact(plot_binomial_distribution, n=(0, 100), p=(0, 1, 0.1));"
   ]
  },
  {
   "cell_type": "code",
   "execution_count": 211,
   "metadata": {
    "scrolled": false
   },
   "outputs": [
    {
     "data": {
      "application/vnd.jupyter.widget-view+json": {
       "model_id": "5b42bb33849645429031732f32233ffa",
       "version_major": 2,
       "version_minor": 0
      },
      "text/plain": [
       "interactive(children=(FloatSlider(value=0.05, description='sig_level', max=0.15000000000000002, min=-0.05), Te…"
      ]
     },
     "metadata": {},
     "output_type": "display_data"
    },
    {
     "data": {
      "text/plain": [
       "<function ipywidgets.widgets.interaction._InteractFactory.__call__.<locals>.<lambda>(*args, **kwargs)>"
      ]
     },
     "execution_count": 211,
     "metadata": {},
     "output_type": "execute_result"
    }
   ],
   "source": [
    "interact(dummydata.plot_sampling_dist_of_difference_standardized, sig_level=0.05, \n",
    "         alternative='smaller')"
   ]
  },
  {
   "cell_type": "code",
   "execution_count": 190,
   "metadata": {
    "scrolled": false
   },
   "outputs": [
    {
     "data": {
      "image/png": "[encoded data removed]",
      "text/plain": [
       "<Figure size 864x432 with 1 Axes>"
      ]
     },
     "metadata": {
      "image/png": {
       "height": 372,
       "width": 725
      },
      "needs_background": "light"
     },
     "output_type": "display_data"
    }
   ],
   "source": [
    "dummydata.plot_sampling_dist_of_difference_standardized(0.05, 'smaller')"
   ]
  },
  {
   "cell_type": "code",
   "execution_count": 34,
   "metadata": {},
   "outputs": [
    {
     "data": {
      "text/plain": [
       "46"
      ]
     },
     "execution_count": 34,
     "metadata": {},
     "output_type": "execute_result"
    }
   ],
   "source": [
    "dummydata.converted_A"
   ]
  },
  {
   "cell_type": "code",
   "execution_count": 36,
   "metadata": {},
   "outputs": [
    {
     "data": {
      "text/plain": [
       "(-0.42685439740817877, 0.33474269125876177)"
      ]
     },
     "execution_count": 36,
     "metadata": {},
     "output_type": "execute_result"
    }
   ],
   "source": [
    "count = np.array([dummydata.converted_B, dummydata.converted_A])\n",
    "nobs = np.array([dummydata.n_B, dummydata.n_A])\n",
    "value = 0 \n",
    "z_score, pval = proportions_ztest(count, nobs, value, \n",
    "                                  alternative = 'smaller',\n",
    "                                  prop_var = False)\n",
    "\n",
    "z_score, pval"
   ]
  },
  {
   "cell_type": "code",
   "execution_count": 14,
   "metadata": {},
   "outputs": [],
   "source": [
    "# add calculations for p-value, z-statistic  on plot"
   ]
  },
  {
   "cell_type": "code",
   "execution_count": 15,
   "metadata": {},
   "outputs": [],
   "source": [
    "# add calculation for statistical power in plot"
   ]
  },
  {
   "cell_type": "code",
   "execution_count": 16,
   "metadata": {},
   "outputs": [
    {
     "data": {
      "text/html": [
       "<div>\n",
       "<style scoped>\n",
       "    .dataframe tbody tr th:only-of-type {\n",
       "        vertical-align: middle;\n",
       "    }\n",
       "\n",
       "    .dataframe tbody tr th {\n",
       "        vertical-align: top;\n",
       "    }\n",
       "\n",
       "    .dataframe thead th {\n",
       "        text-align: right;\n",
       "    }\n",
       "</style>\n",
       "<table border=\"1\" class=\"dataframe\">\n",
       "  <thead>\n",
       "    <tr style=\"text-align: right;\">\n",
       "      <th></th>\n",
       "      <th>group</th>\n",
       "      <th>converted</th>\n",
       "    </tr>\n",
       "  </thead>\n",
       "  <tbody>\n",
       "    <tr>\n",
       "      <th>0</th>\n",
       "      <td>A</td>\n",
       "      <td>1</td>\n",
       "    </tr>\n",
       "    <tr>\n",
       "      <th>1</th>\n",
       "      <td>A</td>\n",
       "      <td>1</td>\n",
       "    </tr>\n",
       "    <tr>\n",
       "      <th>2</th>\n",
       "      <td>A</td>\n",
       "      <td>0</td>\n",
       "    </tr>\n",
       "    <tr>\n",
       "      <th>3</th>\n",
       "      <td>A</td>\n",
       "      <td>0</td>\n",
       "    </tr>\n",
       "    <tr>\n",
       "      <th>4</th>\n",
       "      <td>A</td>\n",
       "      <td>1</td>\n",
       "    </tr>\n",
       "  </tbody>\n",
       "</table>\n",
       "</div>"
      ],
      "text/plain": [
       "  group  converted\n",
       "0     A          1\n",
       "1     A          1\n",
       "2     A          0\n",
       "3     A          0\n",
       "4     A          1"
      ]
     },
     "execution_count": 16,
     "metadata": {},
     "output_type": "execute_result"
    }
   ],
   "source": [
    "ab_data.head()"
   ]
  },
  {
   "cell_type": "code",
   "execution_count": 17,
   "metadata": {},
   "outputs": [],
   "source": [
    "# conditions for binomial approximation to the normal distribution"
   ]
  },
  {
   "cell_type": "code",
   "execution_count": 18,
   "metadata": {},
   "outputs": [],
   "source": [
    "# solve for z statistic, confidence level, p-value manually"
   ]
  },
  {
   "cell_type": "code",
   "execution_count": null,
   "metadata": {},
   "outputs": [],
   "source": []
  },
  {
   "cell_type": "code",
   "execution_count": 24,
   "metadata": {},
   "outputs": [
    {
     "data": {
      "text/plain": [
       "0.7079923254047885"
      ]
     },
     "execution_count": 24,
     "metadata": {},
     "output_type": "execute_result"
    }
   ],
   "source": [
    "# parameters\n",
    "n_A = 100\n",
    "n_B = 100\n",
    "c_A = 50\n",
    "c_B = 45\n",
    "\n",
    "p_A = c_A / n_A\n",
    "p_B = c_B / n_B\n",
    "p_c = (c_A + c_B) / (n_A + n_B)\n",
    "\n",
    "Z_score = (\n",
    "    ((p_A - p_B) - 0) \n",
    "    / np.sqrt((p_c * (1 - p_c)) * (1/n_A + 1/n_B))\n",
    ")  # 0 is the null hypothesis\n",
    "\n",
    "Z_score"
   ]
  },
  {
   "cell_type": "code",
   "execution_count": 26,
   "metadata": {},
   "outputs": [
    {
     "data": {
      "text/plain": [
       "0.07062223445912767"
      ]
     },
     "execution_count": 26,
     "metadata": {},
     "output_type": "execute_result"
    }
   ],
   "source": [
    "np.sqrt((p_c * (1 - p_c)) * (1/n_A + 1/n_B))"
   ]
  },
  {
   "cell_type": "code",
   "execution_count": 27,
   "metadata": {},
   "outputs": [
    {
     "data": {
      "text/plain": [
       "1.959963984540054"
      ]
     },
     "execution_count": 27,
     "metadata": {},
     "output_type": "execute_result"
    }
   ],
   "source": [
    "scs.norm(0, 1).ppf(0.975)"
   ]
  },
  {
   "cell_type": "code",
   "execution_count": 28,
   "metadata": {},
   "outputs": [
    {
     "data": {
      "text/plain": [
       "0.475"
      ]
     },
     "execution_count": 28,
     "metadata": {},
     "output_type": "execute_result"
    }
   ],
   "source": [
    "p_c"
   ]
  },
  {
   "cell_type": "code",
   "execution_count": 29,
   "metadata": {},
   "outputs": [
    {
     "data": {
      "text/plain": [
       "0.23947501171017926"
      ]
     },
     "execution_count": 29,
     "metadata": {},
     "output_type": "execute_result"
    }
   ],
   "source": [
    "# p-value\n",
    "p_value = 1 - scs.norm.cdf(Z_score)\n",
    "p_value\n",
    "\n",
    "scs.norm.sf(Z_score)"
   ]
  },
  {
   "cell_type": "code",
   "execution_count": 30,
   "metadata": {},
   "outputs": [],
   "source": [
    "# check against python implementation"
   ]
  },
  {
   "cell_type": "code",
   "execution_count": 31,
   "metadata": {},
   "outputs": [
    {
     "data": {
      "text/plain": [
       "(0.7079923254047885, 0.23947501171017926)"
      ]
     },
     "execution_count": 31,
     "metadata": {},
     "output_type": "execute_result"
    }
   ],
   "source": [
    "count = np.array([50, 45])\n",
    "nobs = np.array([100, 100])\n",
    "value = 0 \n",
    "z_score, pval = proportions_ztest(count, nobs, value, \n",
    "                                  alternative = 'larger',\n",
    "                                  prop_var = False)\n",
    "\n",
    "z_score, pval"
   ]
  },
  {
   "cell_type": "code",
   "execution_count": 27,
   "metadata": {},
   "outputs": [],
   "source": [
    "# check against R implementation"
   ]
  },
  {
   "cell_type": "code",
   "execution_count": 28,
   "metadata": {},
   "outputs": [
    {
     "data": {
      "text/plain": [
       "2.0"
      ]
     },
     "execution_count": 28,
     "metadata": {},
     "output_type": "execute_result"
    }
   ],
   "source": [
    "np.sqrt(4)"
   ]
  },
  {
   "cell_type": "code",
   "execution_count": null,
   "metadata": {},
   "outputs": [],
   "source": []
  },
  {
   "cell_type": "code",
   "execution_count": 29,
   "metadata": {},
   "outputs": [],
   "source": [
    "### Calculating Sample Size"
   ]
  },
  {
   "cell_type": "markdown",
   "metadata": {},
   "source": [
    "### ABTest Guide\n",
    "https://abtestguide.com/abtestsize/"
   ]
  },
  {
   "cell_type": "code",
   "execution_count": 30,
   "metadata": {},
   "outputs": [
    {
     "name": "stderr",
     "output_type": "stream",
     "text": [
      "R[write to console]: During startup - \n",
      "R[write to console]: Warning messages:\n",
      "\n",
      "R[write to console]: 1: Setting LC_COLLATE failed, using \"C\" \n",
      "\n",
      "R[write to console]: 2: Setting LC_TIME failed, using \"C\" \n",
      "\n",
      "R[write to console]: 3: Setting LC_MESSAGES failed, using \"C\" \n",
      "\n",
      "R[write to console]: 4: Setting LC_MONETARY failed, using \"C\" \n",
      "\n"
     ]
    }
   ],
   "source": [
    "%load_ext rpy2.ipython"
   ]
  },
  {
   "cell_type": "code",
   "execution_count": 31,
   "metadata": {},
   "outputs": [
    {
     "name": "stdout",
     "output_type": "stream",
     "text": [
      "\n",
      "     Two-sample comparison of proportions power calculation \n",
      "\n",
      "              n = 42692.8\n",
      "             p1 = 0.01\n",
      "             p2 = 0.012\n",
      "      sig.level = 0.05\n",
      "          power = 0.8\n",
      "    alternative = two.sided\n",
      "\n",
      "NOTE: n is number in *each* group\n",
      "\n",
      "$n\n",
      "[1] 42692.8\n",
      "\n"
     ]
    }
   ],
   "source": [
    "%%R\n",
    "\n",
    "calculate_power <- function(p1, p2, power, sig.level) {\n",
    "    a = power.prop.test(p1 = p1, \n",
    "                        p2 = p2, \n",
    "                        power, \n",
    "                        n = NULL, \n",
    "                        sig.level = sig.level,\n",
    "                        alternative = \"two.sided\")\n",
    "    print(a)\n",
    "    a['n']\n",
    "}\n",
    "\n",
    "calculate_power(0.01, 0.012, 0.80, 0.05)"
   ]
  },
  {
   "cell_type": "code",
   "execution_count": 32,
   "metadata": {},
   "outputs": [],
   "source": [
    "### EVAN MILLER / STANFORD\n",
    "# Evan Miller Source Code: \n",
    "# https://gist.github.com/mottalrd/7ddfd45d14bc7433dec2#file-gistfile1-txt"
   ]
  },
  {
   "cell_type": "code",
   "execution_count": 33,
   "metadata": {},
   "outputs": [],
   "source": [
    "from scipy.stats import norm\n",
    "import math"
   ]
  },
  {
   "cell_type": "code",
   "execution_count": 34,
   "metadata": {},
   "outputs": [
    {
     "name": "stdout",
     "output_type": "stream",
     "text": [
      "20542.643493459902\n"
     ]
    }
   ],
   "source": [
    "## Blog post using engineering statistics link\n",
    "## http://www.alfredo.motta.name/ab-testing-from-scratch/\n",
    "## https://www.itl.nist.gov/div898/handbook/prc/section2/prc242.htm\n",
    "\n",
    "def calculate_sample_size(p1, p2, sig_level, power):\n",
    "    \n",
    "    delta = abs(p1 - p2)\n",
    "    \n",
    "    z_stat_alpha = norm.ppf(1-((1-sig_level)/2))\n",
    "    z_stat_beta = norm.ppf(power)\n",
    "    \n",
    "    sd1 = math.sqrt(p1*(1-p1))\n",
    "    sd2 = math.sqrt(p2*(1-p2))\n",
    "    \n",
    "    n = ((z_stat_alpha * sd1 + z_stat_beta * sd2)/delta) ** 2\n",
    "    \n",
    "    return n\n",
    "\n",
    "print(calculate_sample_size(0.01, 0.012, 0.95, 0.80))"
   ]
  },
  {
   "cell_type": "code",
   "execution_count": 35,
   "metadata": {},
   "outputs": [
    {
     "name": "stdout",
     "output_type": "stream",
     "text": [
      "39985.96074505791\n"
     ]
    }
   ],
   "source": [
    "## On Evan Miller Website\n",
    "## and gist: https://gist.github.com/mottalrd/7ddfd45d14bc7433dec2\n",
    "def calculate_sample_size(p1, p2, sig_level, power):\n",
    "    \n",
    "    delta = abs(p1 - p2)\n",
    "    \n",
    "    z_stat_alpha = norm.ppf(1-((1-sig_level)/2))\n",
    "    z_stat_beta = norm.ppf(power)\n",
    "    \n",
    "    sd1 = math.sqrt(2 * p1 * (1-p1))\n",
    "    sd2 = math.sqrt(p1 * (1-p1) + (p1 + delta) * (1 - p1 - delta))\n",
    "    \n",
    "    n = ((z_stat_alpha * sd1 + z_stat_beta * sd2)/delta) ** 2\n",
    "    \n",
    "    return n\n",
    "\n",
    "print(calculate_sample_size(0.01, 0.012, 0.95, 0.80))"
   ]
  },
  {
   "cell_type": "code",
   "execution_count": 81,
   "metadata": {},
   "outputs": [
    {
     "name": "stdout",
     "output_type": "stream",
     "text": [
      "577.0064300688017\n"
     ]
    }
   ],
   "source": [
    "### Stanford Lecture\n",
    "\n",
    "def calculate_sample_size(p1, p2, sig_level=0.95, \n",
    "                          power=0.80, r=1, tails='one'):\n",
    "    \n",
    "    delta = abs(p1 - p2)\n",
    "    \n",
    "    if tails == 'one':\n",
    "        z_stat_alpha = norm.ppf(sig_level)\n",
    "    elif tails == 'two':\n",
    "        z_stat_alpha = norm.ppf(sig_level + ((1 - sig_level) / 2))\n",
    "    \n",
    "    z_stat_beta = norm.ppf(power)\n",
    "    \n",
    "    n = ((r+1)/r) * p1 * (1 - p1) * ((z_stat_beta + z_stat_alpha) ** 2) / (delta**2)\n",
    "    \n",
    "    return n\n",
    "\n",
    "print(calculate_sample_size(0.8, 0.85, r=1, sig_level=0.90, power=0.80))"
   ]
  },
  {
   "cell_type": "code",
   "execution_count": null,
   "metadata": {},
   "outputs": [],
   "source": [
    "2*()"
   ]
  },
  {
   "cell_type": "code",
   "execution_count": 72,
   "metadata": {},
   "outputs": [
    {
     "data": {
      "text/plain": [
       "9.015725469825005"
      ]
     },
     "execution_count": 72,
     "metadata": {},
     "output_type": "execute_result"
    }
   ],
   "source": [
    "((norm.ppf(0.90)+norm.ppf(0.80))**2)*2"
   ]
  },
  {
   "cell_type": "code",
   "execution_count": 37,
   "metadata": {},
   "outputs": [
    {
     "data": {
      "text/plain": [
       "3462.0385804128"
      ]
     },
     "execution_count": 37,
     "metadata": {},
     "output_type": "execute_result"
    }
   ],
   "source": [
    "calculate_sample_size(0.04, 0.05, sig_level = 0.90, power = 0.80)"
   ]
  },
  {
   "cell_type": "code",
   "execution_count": 38,
   "metadata": {},
   "outputs": [],
   "source": [
    "## https://towardsdatascience.com/the-math-behind-a-b-testing-with-example-code-part-1-of-2-7be752e1d06f\n",
    "## claims to take from stanford, but looks like pooled variance is wrong. You have to assume the null hypothesis\n",
    "## crf KA video: https://www.khanacademy.org/math/ap-statistics/two-sample-inference/two-sample-z-test-proportions/v/hypothesis-test-for-difference-in-proportions?modal=1\n",
    "\n",
    "def min_sample_size(bcr, mde, power=0.8, sig_level=0.05):\n",
    "    \"\"\"\n",
    "    Returns the minimum sample size to set up a split test\n",
    "    \n",
    "    Arguments:\n",
    "        bcr (float): probability of success for control, sometimes\n",
    "        referred to as baseline conversion rate\n",
    "        mde (float): minimum change in measurement between control\n",
    "        group and test group if alternative hypothesis is true, sometimes\n",
    "        referred to as minimum detectable effect\n",
    "        power (float): probability of rejecting the null hypothesis when the\n",
    "        null hypothesis is false, typically 0.8\n",
    "        sig_level (float): significance level often denoted as alpha,\n",
    "        typically 0.05\n",
    "        \n",
    "    Returns:\n",
    "        min_N: minimum sample size (float)\n",
    "        \n",
    "    References:\n",
    "        Stanford lecture on sample sizes\n",
    "        http://statweb.stanford.edu/~susan/courses/s141/hopower.pdf\n",
    "    \"\"\"\n",
    "\n",
    "    # find Z_beta from desired power\n",
    "    Z_beta = norm.ppf(power)\n",
    "\n",
    "    # find Z_alpha\n",
    "    Z_alpha = norm.ppf(1-sig_level/2)\n",
    "    print(Z_alpha)\n",
    "\n",
    "    # average of probabilities from both groups\n",
    "    pooled_prob = (bcr + bcr+mde) / 2\n",
    "    print(pooled_prob)\n",
    "\n",
    "    min_N = (2 * pooled_prob * (1 - pooled_prob) * (Z_beta + Z_alpha)**2\n",
    "             / mde**2)\n",
    "\n",
    "    return min_N"
   ]
  },
  {
   "cell_type": "code",
   "execution_count": 39,
   "metadata": {},
   "outputs": [
    {
     "name": "stdout",
     "output_type": "stream",
     "text": [
      "1.959963984540054\n",
      "0.011\n"
     ]
    },
    {
     "data": {
      "text/plain": [
       "42693.98131499187"
      ]
     },
     "execution_count": 39,
     "metadata": {},
     "output_type": "execute_result"
    }
   ],
   "source": [
    "min_sample_size(0.01, 0.002)"
   ]
  },
  {
   "cell_type": "code",
   "execution_count": 40,
   "metadata": {},
   "outputs": [],
   "source": [
    "## http://powerandsamplesize.com/Calculators/Compare-2-Proportions/2-Sample-Equality\n",
    "## why is this method using the variance from p(B) if we're supposed to assume null hypothesis is true"
   ]
  },
  {
   "cell_type": "code",
   "execution_count": 41,
   "metadata": {},
   "outputs": [],
   "source": [
    "# https://select-statistics.co.uk/calculators/sample-size-calculator-two-proportions/"
   ]
  },
  {
   "cell_type": "code",
   "execution_count": 42,
   "metadata": {},
   "outputs": [],
   "source": [
    "# http://www2.ccrb.cuhk.edu.hk/stat/proportion/Casagrande.htm"
   ]
  },
  {
   "cell_type": "code",
   "execution_count": 43,
   "metadata": {},
   "outputs": [],
   "source": [
    "# from work notebook"
   ]
  },
  {
   "cell_type": "code",
   "execution_count": 44,
   "metadata": {},
   "outputs": [],
   "source": [
    "import numpy as np\n",
    "import pandas as pd\n",
    "\n",
    "from scipy import stats\n",
    "from scipy.stats import chi2_contingency\n",
    "from scipy.stats import ttest_ind, ttest_rel, f_oneway, mannwhitneyu, wilcoxon\n",
    "\n",
    "import statsmodels.stats.api as sm\n",
    "from statsmodels.stats.power import TTestIndPower\n",
    "from statsmodels.stats.proportion import proportions_ztest\n",
    "import numpy as np\n",
    "import pandas as pd"
   ]
  },
  {
   "cell_type": "code",
   "execution_count": 45,
   "metadata": {},
   "outputs": [],
   "source": [
    "class TwoPropZTest():\n",
    "    \n",
    "    def __init__(self, control_n, control_conversions, variant_n, variant_conversions):\n",
    "        self.control_n = control_n\n",
    "        self.control_conversions = control_conversions\n",
    "        self.variant_n = variant_n\n",
    "        self.variant_conversions = variant_conversions\n",
    "        \n",
    "        self.control_cr = self.control_conversions/self.control_n\n",
    "        self.variant_cr = self.variant_conversions/self.variant_n\n",
    "        \n",
    "        self.results = {}\n",
    "        \n",
    "        \n",
    "    def z_score(self):\n",
    "        \n",
    "        control_se = np.sqrt((self.control_cr*(1-self.control_cr)/self.control_n))\n",
    "        variant_se = np.sqrt((self.variant_cr*(1-self.variant_cr)/self.variant_n))\n",
    "        se_diff = np.sqrt(np.power(control_se, 2) + np.power(variant_se, 2))\n",
    "\n",
    "        z_score = (self.variant_cr-self.control_cr)/se_diff\n",
    "        \n",
    "        self.results['z_score'] = z_score\n",
    "        \n",
    "        # alternatively\n",
    "        # z_statistic = stats.zscore(array1-array2) ?\n",
    "        \n",
    "        return z_score\n",
    "    \n",
    "    def p_value(self):\n",
    "        \n",
    "        z_score = self.z_score()\n",
    "        p_value = 1-stats.norm.cdf(z_score)\n",
    "        \n",
    "        self.results['p_value'] = p_value\n",
    "        \n",
    "        return p_value\n",
    "    \n",
    "    def power(self, alpha, tail='larger'):\n",
    "        \n",
    "        # check: http://powerandsamplesize.com/Calculators/Compare-2-Proportions/2-Sample-1-Sided\n",
    "        # matches R's pwr library\n",
    "        \n",
    "        nobs2 = self.variant_n\n",
    "        ratio = self.variant_n/self.control_n\n",
    "        \n",
    "        es = sm.proportion_effectsize(self.variant_cr, self.control_cr) #swapped due to weird sm implementation\n",
    "        \n",
    "        power_analysis = sm.NormalIndPower(0)\n",
    "        power = power_analysis.solve_power(power=None, effect_size=es, \n",
    "                                           nobs1=self.control_n, ratio=ratio,\n",
    "                                           alpha=alpha, alternative=tail)\n",
    "        \n",
    "        self.results['power'] = power\n",
    "        \n",
    "        return power"
   ]
  },
  {
   "cell_type": "code",
   "execution_count": 46,
   "metadata": {},
   "outputs": [],
   "source": [
    "def TwoPropZTest_sample_size(ex_control_cr, ex_variant_cr, alpha, power, tail='larger'):\n",
    "    \n",
    "    \"\"\"\n",
    "    Returns PER GROUP numbers. To get total sample size, multiply by 2\n",
    "    \"\"\"\n",
    "    \n",
    "    es = sm.proportion_effectsize(ex_variant_cr, ex_control_cr)\n",
    "    \n",
    "    test = sm.NormalIndPower(0)\n",
    "    sample_size = test.solve_power(nobs1=None, ratio=1, effect_size=es, alpha=alpha, power=power, alternative=tail)\n",
    "    \n",
    "    return sample_size"
   ]
  },
  {
   "cell_type": "code",
   "execution_count": 47,
   "metadata": {},
   "outputs": [],
   "source": [
    "class FisherExact():\n",
    "    \n",
    "    def __init__(self, control_n, control_conversions, variant_n, variant_conversions):\n",
    "        \n",
    "        self.control_n = control_n\n",
    "        self.control_conversions = control_conversions\n",
    "        self.variant_n = variant_n\n",
    "        self.variant_conversions = variant_conversions\n",
    "        self.results = {}\n",
    "\n",
    "    def generate_contingency_table(self, control_n, control_conversions, variant_n, variant_conversions):\n",
    "\n",
    "        control_non = control_n - control_conversions\n",
    "        variant_non = variant_n - variant_conversions\n",
    "\n",
    "        cont_array = np.array([[control_conversions, control_non],\n",
    "                               [variant_conversions, variant_non]])\n",
    "        \n",
    "        self.contingency_table = pd.DataFrame(cont_array, \n",
    "                                              index=['control', 'variant'],\n",
    "                                              columns=['convert', 'did not convert'])\n",
    "\n",
    "        return self.contingency_table\n",
    "    \n",
    "    def p_value(self, tail='two-sided'):\n",
    "        \n",
    "        cont_table = self.generate_contingency_table(self.control_n, self.control_conversions, \n",
    "                                                     self.variant_n, self.variant_conversions)\n",
    "        \n",
    "        self.odds_ratio, self.p_value = stats.fisher_exact(cont_table, alternative=tail)\n",
    "        \n",
    "        self.results['p value'] = self.p_value\n",
    "        self.results['odds ratio'] = self.odds_ratio\n",
    "        \n",
    "        return self.p_value"
   ]
  },
  {
   "cell_type": "code",
   "execution_count": 48,
   "metadata": {},
   "outputs": [
    {
     "data": {
      "text/plain": [
       "{'z_score': 2.9410157224928595,\n",
       " 'p_value': 0.0016356896438655122,\n",
       " 'power': 0.8997528382700732}"
      ]
     },
     "execution_count": 48,
     "metadata": {},
     "output_type": "execute_result"
    }
   ],
   "source": [
    "ab_test = TwoPropZTest(182, 35, 188, 61)\n",
    "ab_test.z_score()\n",
    "ab_test.p_value()\n",
    "ab_test.power(0.05, 'larger')\n",
    "ab_test.results"
   ]
  },
  {
   "cell_type": "code",
   "execution_count": 49,
   "metadata": {},
   "outputs": [
    {
     "data": {
      "text/plain": [
       "28869.081600694815"
      ]
     },
     "execution_count": 49,
     "metadata": {},
     "output_type": "execute_result"
    }
   ],
   "source": [
    "TwoPropZTest_sample_size(0.02, 0.023, 0.05, 0.8, 'larger')"
   ]
  },
  {
   "cell_type": "code",
   "execution_count": 50,
   "metadata": {},
   "outputs": [
    {
     "data": {
      "text/plain": [
       "{'z_score': 2.9410157224928595,\n",
       " 'p_value': 0.0016356896438655122,\n",
       " 'power': 0.8327366597430156}"
      ]
     },
     "execution_count": 50,
     "metadata": {},
     "output_type": "execute_result"
    }
   ],
   "source": [
    "ab_test = TwoPropZTest(182, 35, 188, 61)\n",
    "ab_test.z_score()\n",
    "ab_test.p_value()\n",
    "ab_test.power(0.05, 'two-sided')\n",
    "ab_test.results"
   ]
  },
  {
   "cell_type": "code",
   "execution_count": 51,
   "metadata": {},
   "outputs": [
    {
     "data": {
      "text/plain": [
       "{'z_score': 1.5459382713230716,\n",
       " 'p_value': 0.06105973827573996,\n",
       " 'power': 0.46132455828958546}"
      ]
     },
     "execution_count": 51,
     "metadata": {},
     "output_type": "execute_result"
    }
   ],
   "source": [
    "ab_test = TwoPropZTest(324, 35, 323, 48)\n",
    "ab_test.z_score()\n",
    "ab_test.p_value()\n",
    "ab_test.power(0.05, 'larger')\n",
    "ab_test.results"
   ]
  },
  {
   "cell_type": "code",
   "execution_count": 52,
   "metadata": {},
   "outputs": [
    {
     "data": {
      "text/plain": [
       "535.9146420344101"
      ]
     },
     "execution_count": 52,
     "metadata": {},
     "output_type": "execute_result"
    }
   ],
   "source": [
    "TwoPropZTest_sample_size(0.1, 0.15, 0.05, 0.8, 'larger')"
   ]
  },
  {
   "cell_type": "code",
   "execution_count": 53,
   "metadata": {},
   "outputs": [
    {
     "name": "stdout",
     "output_type": "stream",
     "text": [
      "{'p value': 0.1280406654595789, 'odds ratio': 0.6938437139561707}\n"
     ]
    },
    {
     "data": {
      "text/html": [
       "<div>\n",
       "<style scoped>\n",
       "    .dataframe tbody tr th:only-of-type {\n",
       "        vertical-align: middle;\n",
       "    }\n",
       "\n",
       "    .dataframe tbody tr th {\n",
       "        vertical-align: top;\n",
       "    }\n",
       "\n",
       "    .dataframe thead th {\n",
       "        text-align: right;\n",
       "    }\n",
       "</style>\n",
       "<table border=\"1\" class=\"dataframe\">\n",
       "  <thead>\n",
       "    <tr style=\"text-align: right;\">\n",
       "      <th></th>\n",
       "      <th>convert</th>\n",
       "      <th>did not convert</th>\n",
       "    </tr>\n",
       "  </thead>\n",
       "  <tbody>\n",
       "    <tr>\n",
       "      <th>control</th>\n",
       "      <td>35</td>\n",
       "      <td>289</td>\n",
       "    </tr>\n",
       "    <tr>\n",
       "      <th>variant</th>\n",
       "      <td>48</td>\n",
       "      <td>275</td>\n",
       "    </tr>\n",
       "  </tbody>\n",
       "</table>\n",
       "</div>"
      ],
      "text/plain": [
       "         convert  did not convert\n",
       "control       35              289\n",
       "variant       48              275"
      ]
     },
     "metadata": {},
     "output_type": "display_data"
    }
   ],
   "source": [
    "test = FisherExact(324, 35, 323, 48)\n",
    "test.p_value()\n",
    "print(test.results)\n",
    "display(test.contingency_table)"
   ]
  },
  {
   "cell_type": "code",
   "execution_count": 54,
   "metadata": {},
   "outputs": [],
   "source": [
    "# how to find power for fisher test on python?"
   ]
  },
  {
   "cell_type": "code",
   "execution_count": 55,
   "metadata": {},
   "outputs": [
    {
     "ename": "NameError",
     "evalue": "name 'table' is not defined",
     "output_type": "error",
     "traceback": [
      "\u001b[0;31m---------------------------------------------------------------------------\u001b[0m",
      "\u001b[0;31mNameError\u001b[0m                                 Traceback (most recent call last)",
      "\u001b[0;32m<ipython-input-55-e4e126836425>\u001b[0m in \u001b[0;36m<module>\u001b[0;34m\u001b[0m\n\u001b[0;32m----> 1\u001b[0;31m \u001b[0mstat\u001b[0m\u001b[0;34m,\u001b[0m \u001b[0mp\u001b[0m\u001b[0;34m,\u001b[0m \u001b[0mdof\u001b[0m\u001b[0;34m,\u001b[0m \u001b[0mexpected\u001b[0m \u001b[0;34m=\u001b[0m \u001b[0mchi2_contingency\u001b[0m\u001b[0;34m(\u001b[0m\u001b[0mtable\u001b[0m\u001b[0;34m)\u001b[0m\u001b[0;34m\u001b[0m\u001b[0;34m\u001b[0m\u001b[0m\n\u001b[0m\u001b[1;32m      2\u001b[0m \u001b[0;34m\u001b[0m\u001b[0m\n\u001b[1;32m      3\u001b[0m \u001b[0mstat\u001b[0m\u001b[0;34m,\u001b[0m \u001b[0mp\u001b[0m \u001b[0;34m=\u001b[0m \u001b[0mttest_ind\u001b[0m\u001b[0;34m(\u001b[0m\u001b[0mdata1\u001b[0m\u001b[0;34m,\u001b[0m \u001b[0mdata2\u001b[0m\u001b[0;34m)\u001b[0m\u001b[0;34m\u001b[0m\u001b[0;34m\u001b[0m\u001b[0m\n\u001b[1;32m      4\u001b[0m \u001b[0mstat\u001b[0m\u001b[0;34m,\u001b[0m \u001b[0mp\u001b[0m \u001b[0;34m=\u001b[0m \u001b[0mttest_rel\u001b[0m\u001b[0;34m(\u001b[0m\u001b[0mdata1\u001b[0m\u001b[0;34m,\u001b[0m \u001b[0mdata2\u001b[0m\u001b[0;34m)\u001b[0m\u001b[0;34m\u001b[0m\u001b[0;34m\u001b[0m\u001b[0m\n\u001b[1;32m      5\u001b[0m \u001b[0mstat\u001b[0m\u001b[0;34m,\u001b[0m \u001b[0mp\u001b[0m \u001b[0;34m=\u001b[0m \u001b[0mf_oneway\u001b[0m\u001b[0;34m(\u001b[0m\u001b[0mdata1\u001b[0m\u001b[0;34m,\u001b[0m \u001b[0mdata2\u001b[0m\u001b[0;34m)\u001b[0m\u001b[0;34m\u001b[0m\u001b[0;34m\u001b[0m\u001b[0m\n",
      "\u001b[0;31mNameError\u001b[0m: name 'table' is not defined"
     ]
    }
   ],
   "source": [
    "stat, p, dof, expected = chi2_contingency(table)\n",
    "\n",
    "stat, p = ttest_ind(data1, data2)\n",
    "stat, p = ttest_rel(data1, data2)\n",
    "stat, p = f_oneway(data1, data2)\n",
    "stat, p = mannwhitneyu(data1, data2)\n",
    "stat, p = willcoxon(data1, data2)"
   ]
  },
  {
   "cell_type": "code",
   "execution_count": null,
   "metadata": {},
   "outputs": [],
   "source": [
    "count = np.array([35, 61])\n",
    "nobs = np.array([182, 186])\n",
    "stat, pval = proportions_ztest(count, nobs, 0, alternative='larger')\n",
    "print(stat)\n",
    "print(1-pval)"
   ]
  },
  {
   "cell_type": "code",
   "execution_count": null,
   "metadata": {},
   "outputs": [],
   "source": [
    "effect_size = 0.3757\n",
    "ratio = 323/324\n",
    "power_analysis = zt_ind_solve_power(effect_size = effect_size, nobs1=324, alpha=0.05, \n",
    "                                    ratio=ratio, alternative='larger')\n",
    "power_analysis\n"
   ]
  },
  {
   "cell_type": "code",
   "execution_count": null,
   "metadata": {},
   "outputs": [],
   "source": [
    "effect_size = 0.8\n",
    "alpha = 0.05 # significance level\n",
    "power = 0.8\n",
    "\n",
    "power_analysis = TTestIndPower()\n",
    "sample_size = power_analysis.solve_power(effect_size = effect_size, \n",
    "                                         power = power, \n",
    "                                         alpha = alpha)\n",
    "\n",
    "print('Required sample size: {0:.2f}'.format(sample_size))"
   ]
  },
  {
   "cell_type": "code",
   "execution_count": null,
   "metadata": {},
   "outputs": [],
   "source": []
  },
  {
   "cell_type": "markdown",
   "metadata": {},
   "source": [
    "### Resources:\n",
    "- https://docs.scipy.org/doc/scipy/reference/tutorial/stats.html\n",
    "- Heavily referenced: https://towardsdatascience.com/the-math-behind-a-b-testing-with-example-code-part-1-of-2-7be752e1d06f\n",
    "- When I tripped over why the normal curves could have y-axis value of greater than 1: https://towardsdatascience.com/pdf-is-not-a-probability-5a4b8a5d9531\n"
   ]
  }
 ],
 "metadata": {
  "kernelspec": {
   "display_name": "Python 3",
   "language": "python",
   "name": "python3"
  },
  "language_info": {
   "codemirror_mode": {
    "name": "ipython",
    "version": 3
   },
   "file_extension": ".py",
   "mimetype": "text/x-python",
   "name": "python",
   "nbconvert_exporter": "python",
   "pygments_lexer": "ipython3",
   "version": "3.7.3"
  }
 },
 "nbformat": 4,
 "nbformat_minor": 2
}
