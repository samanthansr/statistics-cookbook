{
 "cells": [
  {
   "cell_type": "markdown",
   "metadata": {},
   "source": [
    "### Hypothesis Testing"
   ]
  },
  {
   "cell_type": "markdown",
   "metadata": {},
   "source": [
    "### ABTest Guide\n",
    "https://abtestguide.com/abtestsize/"
   ]
  },
  {
   "cell_type": "code",
   "execution_count": 2,
   "metadata": {
    "collapsed": true
   },
   "outputs": [
    {
     "name": "stderr",
     "output_type": "stream",
     "text": [
      "R[write to console]: During startup - \n",
      "R[write to console]: Warning messages:\n",
      "\n",
      "R[write to console]: 1: Setting LC_COLLATE failed, using \"C\" \n",
      "\n",
      "R[write to console]: 2: Setting LC_TIME failed, using \"C\" \n",
      "\n",
      "R[write to console]: 3: Setting LC_MESSAGES failed, using \"C\" \n",
      "\n",
      "R[write to console]: 4: Setting LC_MONETARY failed, using \"C\" \n",
      "\n"
     ]
    }
   ],
   "source": [
    "%load_ext rpy2.ipython"
   ]
  },
  {
   "cell_type": "code",
   "execution_count": 81,
   "metadata": {},
   "outputs": [
    {
     "name": "stdout",
     "output_type": "stream",
     "text": [
      "\n",
      "     Two-sample comparison of proportions power calculation \n",
      "\n",
      "              n = 42692.8\n",
      "             p1 = 0.01\n",
      "             p2 = 0.012\n",
      "      sig.level = 0.05\n",
      "          power = 0.8\n",
      "    alternative = two.sided\n",
      "\n",
      "NOTE: n is number in *each* group\n",
      "\n",
      "$n\n",
      "[1] 42692.8\n",
      "\n"
     ]
    }
   ],
   "source": [
    "%%R\n",
    "\n",
    "calculate_power <- function(p1, p2, power, sig.level) {\n",
    "    a = power.prop.test(p1 = p1, \n",
    "                        p2 = p2, \n",
    "                        power, \n",
    "                        n = NULL, \n",
    "                        sig.level = sig.level,\n",
    "                        alternative = \"two.sided\")\n",
    "    print(a)\n",
    "    a['n']\n",
    "}\n",
    "\n",
    "calculate_power(0.01, 0.012, 0.80, 0.05)"
   ]
  },
  {
   "cell_type": "code",
   "execution_count": null,
   "metadata": {},
   "outputs": [],
   "source": [
    "### EVAN MILLER / STANFORD\n",
    "# Evan Miller Source Code: \n",
    "# https://gist.github.com/mottalrd/7ddfd45d14bc7433dec2#file-gistfile1-txt"
   ]
  },
  {
   "cell_type": "code",
   "execution_count": 12,
   "metadata": {},
   "outputs": [],
   "source": [
    "from scipy.stats import norm\n",
    "import math"
   ]
  },
  {
   "cell_type": "code",
   "execution_count": 75,
   "metadata": {},
   "outputs": [
    {
     "name": "stdout",
     "output_type": "stream",
     "text": [
      "20542.643493459902\n"
     ]
    }
   ],
   "source": [
    "## Blog post using engineering statistics link\n",
    "## http://www.alfredo.motta.name/ab-testing-from-scratch/\n",
    "## https://www.itl.nist.gov/div898/handbook/prc/section2/prc242.htm\n",
    "\n",
    "def calculate_sample_size(p1, p2, sig_level, power):\n",
    "    \n",
    "    delta = abs(p1 - p2)\n",
    "    \n",
    "    z_stat_alpha = norm.ppf(1-((1-sig_level)/2))\n",
    "    z_stat_beta = norm.ppf(power)\n",
    "    \n",
    "    sd1 = math.sqrt(p1*(1-p1))\n",
    "    sd2 = math.sqrt(p2*(1-p2))\n",
    "    \n",
    "    n = ((z_stat_alpha * sd1 + z_stat_beta * sd2)/delta) ** 2\n",
    "    \n",
    "    return n\n",
    "\n",
    "print(calculate_sample_size(0.01, 0.012, 0.95, 0.80))"
   ]
  },
  {
   "cell_type": "code",
   "execution_count": 76,
   "metadata": {},
   "outputs": [
    {
     "name": "stdout",
     "output_type": "stream",
     "text": [
      "39985.96074505791\n"
     ]
    }
   ],
   "source": [
    "## On Evan Miller Website\n",
    "## and gist: https://gist.github.com/mottalrd/7ddfd45d14bc7433dec2\n",
    "def calculate_sample_size(p1, p2, sig_level, power):\n",
    "    \n",
    "    delta = abs(p1 - p2)\n",
    "    \n",
    "    z_stat_alpha = norm.ppf(1-((1-sig_level)/2))\n",
    "    z_stat_beta = norm.ppf(power)\n",
    "    \n",
    "    sd1 = math.sqrt(2 * p1 * (1-p1))\n",
    "    sd2 = math.sqrt(p1 * (1-p1) + (p1 + delta) * (1 - p1 - delta))\n",
    "    \n",
    "    n = ((z_stat_alpha * sd1 + z_stat_beta * sd2)/delta) ** 2\n",
    "    \n",
    "    return n\n",
    "\n",
    "print(calculate_sample_size(0.01, 0.012, 0.95, 0.80))"
   ]
  },
  {
   "cell_type": "code",
   "execution_count": 98,
   "metadata": {},
   "outputs": [
    {
     "name": "stdout",
     "output_type": "stream",
     "text": [
      "30603.658298497845\n"
     ]
    }
   ],
   "source": [
    "### Stanford Lecture\n",
    "\n",
    "def calculate_sample_size(p1, p2, sig_level=0.95, \n",
    "                          power=0.80, r=1, tails='one'):\n",
    "    \n",
    "    delta = abs(p1 - p2)\n",
    "    \n",
    "    if tails == 'one':\n",
    "        z_stat_alpha = norm.ppf(sig_level)\n",
    "    elif tails == 'two':\n",
    "        z_stat_alpha = norm.ppf(sig_level + ((1 - sig_level) / 2))\n",
    "    \n",
    "    z_stat_beta = norm.ppf(power)\n",
    "    \n",
    "    n = ((r+1)/r) * p1 * (1 - p1) * ((z_stat_beta + z_stat_alpha) ** 2) / (delta**2)\n",
    "    \n",
    "    return n\n",
    "\n",
    "print(calculate_sample_size(0.01, 0.012, r=1))"
   ]
  },
  {
   "cell_type": "code",
   "execution_count": 118,
   "metadata": {},
   "outputs": [
    {
     "data": {
      "text/plain": [
       "3462.0385804128"
      ]
     },
     "execution_count": 118,
     "metadata": {},
     "output_type": "execute_result"
    }
   ],
   "source": [
    "calculate_sample_size(0.04, 0.05, sig_level = 0.90, power = 0.80)"
   ]
  },
  {
   "cell_type": "code",
   "execution_count": 73,
   "metadata": {},
   "outputs": [],
   "source": [
    "## https://towardsdatascience.com/the-math-behind-a-b-testing-with-example-code-part-1-of-2-7be752e1d06f\n",
    "## claims to take from stanford, but looks like pooled variance is wrong. You have to assume the null hypothesis\n",
    "## crf KA video: https://www.khanacademy.org/math/ap-statistics/two-sample-inference/two-sample-z-test-proportions/v/hypothesis-test-for-difference-in-proportions?modal=1\n",
    "\n",
    "def min_sample_size(bcr, mde, power=0.8, sig_level=0.05):\n",
    "    \"\"\"\n",
    "    Returns the minimum sample size to set up a split test\n",
    "    \n",
    "    Arguments:\n",
    "        bcr (float): probability of success for control, sometimes\n",
    "        referred to as baseline conversion rate\n",
    "        mde (float): minimum change in measurement between control\n",
    "        group and test group if alternative hypothesis is true, sometimes\n",
    "        referred to as minimum detectable effect\n",
    "        power (float): probability of rejecting the null hypothesis when the\n",
    "        null hypothesis is false, typically 0.8\n",
    "        sig_level (float): significance level often denoted as alpha,\n",
    "        typically 0.05\n",
    "        \n",
    "    Returns:\n",
    "        min_N: minimum sample size (float)\n",
    "        \n",
    "    References:\n",
    "        Stanford lecture on sample sizes\n",
    "        http://statweb.stanford.edu/~susan/courses/s141/hopower.pdf\n",
    "    \"\"\"\n",
    "\n",
    "    # find Z_beta from desired power\n",
    "    Z_beta = norm.ppf(power)\n",
    "\n",
    "    # find Z_alpha\n",
    "    Z_alpha = norm.ppf(1-sig_level/2)\n",
    "    print(Z_alpha)\n",
    "\n",
    "    # average of probabilities from both groups\n",
    "    pooled_prob = (bcr + bcr+mde) / 2\n",
    "    print(pooled_prob)\n",
    "\n",
    "    min_N = (2 * pooled_prob * (1 - pooled_prob) * (Z_beta + Z_alpha)**2\n",
    "             / mde**2)\n",
    "\n",
    "    return min_N"
   ]
  },
  {
   "cell_type": "code",
   "execution_count": 63,
   "metadata": {},
   "outputs": [
    {
     "name": "stdout",
     "output_type": "stream",
     "text": [
      "1.959963984540054\n",
      "0.011\n"
     ]
    },
    {
     "data": {
      "text/plain": [
       "42693.98131499187"
      ]
     },
     "execution_count": 63,
     "metadata": {},
     "output_type": "execute_result"
    }
   ],
   "source": [
    "min_sample_size(0.01, 0.002)"
   ]
  },
  {
   "cell_type": "code",
   "execution_count": null,
   "metadata": {},
   "outputs": [],
   "source": [
    "## http://powerandsamplesize.com/Calculators/Compare-2-Proportions/2-Sample-Equality\n",
    "## why is this method using the variance from p(B) if we're supposed to assume null hypothesis is true"
   ]
  },
  {
   "cell_type": "code",
   "execution_count": 78,
   "metadata": {},
   "outputs": [],
   "source": [
    "# https://select-statistics.co.uk/calculators/sample-size-calculator-two-proportions/"
   ]
  },
  {
   "cell_type": "code",
   "execution_count": 79,
   "metadata": {},
   "outputs": [],
   "source": [
    "# http://www2.ccrb.cuhk.edu.hk/stat/proportion/Casagrande.htm"
   ]
  },
  {
   "cell_type": "code",
   "execution_count": 119,
   "metadata": {},
   "outputs": [],
   "source": [
    "# from work notebook"
   ]
  },
  {
   "cell_type": "code",
   "execution_count": 121,
   "metadata": {},
   "outputs": [],
   "source": [
    "import numpy as np\n",
    "import pandas as pd\n",
    "\n",
    "from scipy import stats\n",
    "from scipy.stats import chi2_contingency\n",
    "from scipy.stats import ttest_ind, ttest_rel, f_oneway, mannwhitneyu, wilcoxon\n",
    "\n",
    "import statsmodels.stats.api as sm\n",
    "from statsmodels.stats.power import TTestIndPower\n",
    "from statsmodels.stats.proportion import proportions_ztest\n",
    "import numpy as np\n",
    "import pandas as pd"
   ]
  },
  {
   "cell_type": "code",
   "execution_count": 122,
   "metadata": {},
   "outputs": [],
   "source": [
    "class TwoPropZTest():\n",
    "    \n",
    "    def __init__(self, control_n, control_conversions, variant_n, variant_conversions):\n",
    "        self.control_n = control_n\n",
    "        self.control_conversions = control_conversions\n",
    "        self.variant_n = variant_n\n",
    "        self.variant_conversions = variant_conversions\n",
    "        \n",
    "        self.control_cr = self.control_conversions/self.control_n\n",
    "        self.variant_cr = self.variant_conversions/self.variant_n\n",
    "        \n",
    "        self.results = {}\n",
    "        \n",
    "        \n",
    "    def z_score(self):\n",
    "        \n",
    "        control_se = np.sqrt((self.control_cr*(1-self.control_cr)/self.control_n))\n",
    "        variant_se = np.sqrt((self.variant_cr*(1-self.variant_cr)/self.variant_n))\n",
    "        se_diff = np.sqrt(np.power(control_se, 2) + np.power(variant_se, 2))\n",
    "\n",
    "        z_score = (self.variant_cr-self.control_cr)/se_diff\n",
    "        \n",
    "        self.results['z_score'] = z_score\n",
    "        \n",
    "        # alternatively\n",
    "        # z_statistic = stats.zscore(array1-array2) ?\n",
    "        \n",
    "        return z_score\n",
    "    \n",
    "    def p_value(self):\n",
    "        \n",
    "        z_score = self.z_score()\n",
    "        p_value = 1-stats.norm.cdf(z_score)\n",
    "        \n",
    "        self.results['p_value'] = p_value\n",
    "        \n",
    "        return p_value\n",
    "    \n",
    "    def power(self, alpha, tail='larger'):\n",
    "        \n",
    "        # check: http://powerandsamplesize.com/Calculators/Compare-2-Proportions/2-Sample-1-Sided\n",
    "        # matches R's pwr library\n",
    "        \n",
    "        nobs2 = self.variant_n\n",
    "        ratio = self.variant_n/self.control_n\n",
    "        \n",
    "        es = sm.proportion_effectsize(self.variant_cr, self.control_cr) #swapped due to weird sm implementation\n",
    "        \n",
    "        power_analysis = sm.NormalIndPower(0)\n",
    "        power = power_analysis.solve_power(power=None, effect_size=es, \n",
    "                                           nobs1=self.control_n, ratio=ratio,\n",
    "                                           alpha=alpha, alternative=tail)\n",
    "        \n",
    "        self.results['power'] = power\n",
    "        \n",
    "        return power"
   ]
  },
  {
   "cell_type": "code",
   "execution_count": 128,
   "metadata": {},
   "outputs": [],
   "source": [
    "def TwoPropZTest_sample_size(ex_control_cr, ex_variant_cr, alpha, power, tail='larger'):\n",
    "    \n",
    "    \"\"\"\n",
    "    Returns PER GROUP numbers. To get total sample size, multiply by 2\n",
    "    \"\"\"\n",
    "    \n",
    "    es = sm.proportion_effectsize(ex_variant_cr, ex_control_cr)\n",
    "    \n",
    "    test = sm.NormalIndPower(0)\n",
    "    sample_size = test.solve_power(nobs1=None, ratio=1, effect_size=es, alpha=alpha, power=power, alternative=tail)\n",
    "    \n",
    "    return sample_size"
   ]
  },
  {
   "cell_type": "code",
   "execution_count": 123,
   "metadata": {},
   "outputs": [],
   "source": [
    "class FisherExact():\n",
    "    \n",
    "    def __init__(self, control_n, control_conversions, variant_n, variant_conversions):\n",
    "        \n",
    "        self.control_n = control_n\n",
    "        self.control_conversions = control_conversions\n",
    "        self.variant_n = variant_n\n",
    "        self.variant_conversions = variant_conversions\n",
    "        self.results = {}\n",
    "\n",
    "    def generate_contingency_table(self, control_n, control_conversions, variant_n, variant_conversions):\n",
    "\n",
    "        control_non = control_n - control_conversions\n",
    "        variant_non = variant_n - variant_conversions\n",
    "\n",
    "        cont_array = np.array([[control_conversions, control_non],\n",
    "                               [variant_conversions, variant_non]])\n",
    "        \n",
    "        self.contingency_table = pd.DataFrame(cont_array, \n",
    "                                              index=['control', 'variant'],\n",
    "                                              columns=['convert', 'did not convert'])\n",
    "\n",
    "        return self.contingency_table\n",
    "    \n",
    "    def p_value(self, tail='two-sided'):\n",
    "        \n",
    "        cont_table = self.generate_contingency_table(self.control_n, self.control_conversions, \n",
    "                                                     self.variant_n, self.variant_conversions)\n",
    "        \n",
    "        self.odds_ratio, self.p_value = stats.fisher_exact(cont_table, alternative=tail)\n",
    "        \n",
    "        self.results['p value'] = self.p_value\n",
    "        self.results['odds ratio'] = self.odds_ratio\n",
    "        \n",
    "        return self.p_value"
   ]
  },
  {
   "cell_type": "code",
   "execution_count": 124,
   "metadata": {},
   "outputs": [
    {
     "data": {
      "text/plain": [
       "{'z_score': 2.9410157224928595,\n",
       " 'p_value': 0.0016356896438655122,\n",
       " 'power': 0.8997528382700732}"
      ]
     },
     "execution_count": 124,
     "metadata": {},
     "output_type": "execute_result"
    }
   ],
   "source": [
    "ab_test = TwoPropZTest(182, 35, 188, 61)\n",
    "ab_test.z_score()\n",
    "ab_test.p_value()\n",
    "ab_test.power(0.05, 'larger')\n",
    "ab_test.results"
   ]
  },
  {
   "cell_type": "code",
   "execution_count": null,
   "metadata": {},
   "outputs": [],
   "source": [
    "TwoPropZTest_sample_size(0.02, 0.023, 0.05, 0.8, 'larger')"
   ]
  },
  {
   "cell_type": "code",
   "execution_count": 125,
   "metadata": {},
   "outputs": [
    {
     "data": {
      "text/plain": [
       "{'z_score': 2.9410157224928595,\n",
       " 'p_value': 0.0016356896438655122,\n",
       " 'power': 0.8327366597430156}"
      ]
     },
     "execution_count": 125,
     "metadata": {},
     "output_type": "execute_result"
    }
   ],
   "source": [
    "ab_test = TwoPropZTest(182, 35, 188, 61)\n",
    "ab_test.z_score()\n",
    "ab_test.p_value()\n",
    "ab_test.power(0.05, 'two-sided')\n",
    "ab_test.results"
   ]
  },
  {
   "cell_type": "code",
   "execution_count": 126,
   "metadata": {},
   "outputs": [
    {
     "data": {
      "text/plain": [
       "{'z_score': 1.5459382713230716,\n",
       " 'p_value': 0.06105973827573996,\n",
       " 'power': 0.46132455828958546}"
      ]
     },
     "execution_count": 126,
     "metadata": {},
     "output_type": "execute_result"
    }
   ],
   "source": [
    "ab_test = TwoPropZTest(324, 35, 323, 48)\n",
    "ab_test.z_score()\n",
    "ab_test.p_value()\n",
    "ab_test.power(0.05, 'larger')\n",
    "ab_test.results"
   ]
  },
  {
   "cell_type": "code",
   "execution_count": 129,
   "metadata": {},
   "outputs": [
    {
     "data": {
      "text/plain": [
       "535.9146420344101"
      ]
     },
     "execution_count": 129,
     "metadata": {},
     "output_type": "execute_result"
    }
   ],
   "source": [
    "TwoPropZTest_sample_size(0.1, 0.15, 0.05, 0.8, 'larger')"
   ]
  },
  {
   "cell_type": "code",
   "execution_count": 130,
   "metadata": {},
   "outputs": [
    {
     "name": "stdout",
     "output_type": "stream",
     "text": [
      "{'p value': 0.1280406654595789, 'odds ratio': 0.6938437139561707}\n"
     ]
    },
    {
     "data": {
      "text/html": [
       "<div>\n",
       "<style scoped>\n",
       "    .dataframe tbody tr th:only-of-type {\n",
       "        vertical-align: middle;\n",
       "    }\n",
       "\n",
       "    .dataframe tbody tr th {\n",
       "        vertical-align: top;\n",
       "    }\n",
       "\n",
       "    .dataframe thead th {\n",
       "        text-align: right;\n",
       "    }\n",
       "</style>\n",
       "<table border=\"1\" class=\"dataframe\">\n",
       "  <thead>\n",
       "    <tr style=\"text-align: right;\">\n",
       "      <th></th>\n",
       "      <th>convert</th>\n",
       "      <th>did not convert</th>\n",
       "    </tr>\n",
       "  </thead>\n",
       "  <tbody>\n",
       "    <tr>\n",
       "      <th>control</th>\n",
       "      <td>35</td>\n",
       "      <td>289</td>\n",
       "    </tr>\n",
       "    <tr>\n",
       "      <th>variant</th>\n",
       "      <td>48</td>\n",
       "      <td>275</td>\n",
       "    </tr>\n",
       "  </tbody>\n",
       "</table>\n",
       "</div>"
      ],
      "text/plain": [
       "         convert  did not convert\n",
       "control       35              289\n",
       "variant       48              275"
      ]
     },
     "metadata": {},
     "output_type": "display_data"
    }
   ],
   "source": [
    "test = FisherExact(324, 35, 323, 48)\n",
    "test.p_value()\n",
    "print(test.results)\n",
    "display(test.contingency_table)"
   ]
  },
  {
   "cell_type": "code",
   "execution_count": null,
   "metadata": {},
   "outputs": [],
   "source": [
    "# how to find power for fisher test on python?"
   ]
  },
  {
   "cell_type": "code",
   "execution_count": 131,
   "metadata": {},
   "outputs": [
    {
     "ename": "NameError",
     "evalue": "name 'table' is not defined",
     "output_type": "error",
     "traceback": [
      "\u001b[0;31m---------------------------------------------------------------------------\u001b[0m",
      "\u001b[0;31mNameError\u001b[0m                                 Traceback (most recent call last)",
      "\u001b[0;32m<ipython-input-131-e4e126836425>\u001b[0m in \u001b[0;36m<module>\u001b[0;34m\u001b[0m\n\u001b[0;32m----> 1\u001b[0;31m \u001b[0mstat\u001b[0m\u001b[0;34m,\u001b[0m \u001b[0mp\u001b[0m\u001b[0;34m,\u001b[0m \u001b[0mdof\u001b[0m\u001b[0;34m,\u001b[0m \u001b[0mexpected\u001b[0m \u001b[0;34m=\u001b[0m \u001b[0mchi2_contingency\u001b[0m\u001b[0;34m(\u001b[0m\u001b[0mtable\u001b[0m\u001b[0;34m)\u001b[0m\u001b[0;34m\u001b[0m\u001b[0;34m\u001b[0m\u001b[0m\n\u001b[0m\u001b[1;32m      2\u001b[0m \u001b[0;34m\u001b[0m\u001b[0m\n\u001b[1;32m      3\u001b[0m \u001b[0mstat\u001b[0m\u001b[0;34m,\u001b[0m \u001b[0mp\u001b[0m \u001b[0;34m=\u001b[0m \u001b[0mttest_ind\u001b[0m\u001b[0;34m(\u001b[0m\u001b[0mdata1\u001b[0m\u001b[0;34m,\u001b[0m \u001b[0mdata2\u001b[0m\u001b[0;34m)\u001b[0m\u001b[0;34m\u001b[0m\u001b[0;34m\u001b[0m\u001b[0m\n\u001b[1;32m      4\u001b[0m \u001b[0mstat\u001b[0m\u001b[0;34m,\u001b[0m \u001b[0mp\u001b[0m \u001b[0;34m=\u001b[0m \u001b[0mttest_rel\u001b[0m\u001b[0;34m(\u001b[0m\u001b[0mdata1\u001b[0m\u001b[0;34m,\u001b[0m \u001b[0mdata2\u001b[0m\u001b[0;34m)\u001b[0m\u001b[0;34m\u001b[0m\u001b[0;34m\u001b[0m\u001b[0m\n\u001b[1;32m      5\u001b[0m \u001b[0mstat\u001b[0m\u001b[0;34m,\u001b[0m \u001b[0mp\u001b[0m \u001b[0;34m=\u001b[0m \u001b[0mf_oneway\u001b[0m\u001b[0;34m(\u001b[0m\u001b[0mdata1\u001b[0m\u001b[0;34m,\u001b[0m \u001b[0mdata2\u001b[0m\u001b[0;34m)\u001b[0m\u001b[0;34m\u001b[0m\u001b[0;34m\u001b[0m\u001b[0m\n",
      "\u001b[0;31mNameError\u001b[0m: name 'table' is not defined"
     ]
    }
   ],
   "source": [
    "stat, p, dof, expected = chi2_contingency(table)\n",
    "\n",
    "stat, p = ttest_ind(data1, data2)\n",
    "stat, p = ttest_rel(data1, data2)\n",
    "stat, p = f_oneway(data1, data2)\n",
    "stat, p = mannwhitneyu(data1, data2)\n",
    "stat, p = willcoxon(data1, data2)"
   ]
  },
  {
   "cell_type": "code",
   "execution_count": 132,
   "metadata": {},
   "outputs": [
    {
     "name": "stdout",
     "output_type": "stream",
     "text": [
      "-2.96287653203812\n",
      "0.001523893967572243\n"
     ]
    }
   ],
   "source": [
    "count = np.array([35, 61])\n",
    "nobs = np.array([182, 186])\n",
    "stat, pval = proportions_ztest(count, nobs, 0, alternative='larger')\n",
    "print(stat)\n",
    "print(1-pval)"
   ]
  },
  {
   "cell_type": "code",
   "execution_count": 133,
   "metadata": {},
   "outputs": [
    {
     "ename": "NameError",
     "evalue": "name 'zt_ind_solve_power' is not defined",
     "output_type": "error",
     "traceback": [
      "\u001b[0;31m---------------------------------------------------------------------------\u001b[0m",
      "\u001b[0;31mNameError\u001b[0m                                 Traceback (most recent call last)",
      "\u001b[0;32m<ipython-input-133-0cfb72bf57e6>\u001b[0m in \u001b[0;36m<module>\u001b[0;34m\u001b[0m\n\u001b[1;32m      1\u001b[0m \u001b[0meffect_size\u001b[0m \u001b[0;34m=\u001b[0m \u001b[0;36m0.3757\u001b[0m\u001b[0;34m\u001b[0m\u001b[0;34m\u001b[0m\u001b[0m\n\u001b[1;32m      2\u001b[0m \u001b[0mratio\u001b[0m \u001b[0;34m=\u001b[0m \u001b[0;36m323\u001b[0m\u001b[0;34m/\u001b[0m\u001b[0;36m324\u001b[0m\u001b[0;34m\u001b[0m\u001b[0;34m\u001b[0m\u001b[0m\n\u001b[0;32m----> 3\u001b[0;31m power_analysis = zt_ind_solve_power(effect_size = effect_size, nobs1=324, alpha=0.05, \n\u001b[0m\u001b[1;32m      4\u001b[0m                                     ratio=ratio, alternative='larger')\n\u001b[1;32m      5\u001b[0m \u001b[0mpower_analysis\u001b[0m\u001b[0;34m\u001b[0m\u001b[0;34m\u001b[0m\u001b[0m\n",
      "\u001b[0;31mNameError\u001b[0m: name 'zt_ind_solve_power' is not defined"
     ]
    }
   ],
   "source": [
    "effect_size = 0.3757\n",
    "ratio = 323/324\n",
    "power_analysis = zt_ind_solve_power(effect_size = effect_size, nobs1=324, alpha=0.05, \n",
    "                                    ratio=ratio, alternative='larger')\n",
    "power_analysis\n"
   ]
  },
  {
   "cell_type": "code",
   "execution_count": 134,
   "metadata": {},
   "outputs": [
    {
     "name": "stdout",
     "output_type": "stream",
     "text": [
      "Required sample size: 25.52\n"
     ]
    }
   ],
   "source": [
    "effect_size = 0.8\n",
    "alpha = 0.05 # significance level\n",
    "power = 0.8\n",
    "\n",
    "power_analysis = TTestIndPower()\n",
    "sample_size = power_analysis.solve_power(effect_size = effect_size, \n",
    "                                         power = power, \n",
    "                                         alpha = alpha)\n",
    "\n",
    "print('Required sample size: {0:.2f}'.format(sample_size))"
   ]
  }
 ],
 "metadata": {
  "kernelspec": {
   "display_name": "Python 3",
   "language": "python",
   "name": "python3"
  },
  "language_info": {
   "codemirror_mode": {
    "name": "ipython",
    "version": 3
   },
   "file_extension": ".py",
   "mimetype": "text/x-python",
   "name": "python",
   "nbconvert_exporter": "python",
   "pygments_lexer": "ipython3",
   "version": "3.7.3"
  }
 },
 "nbformat": 4,
 "nbformat_minor": 2
}
