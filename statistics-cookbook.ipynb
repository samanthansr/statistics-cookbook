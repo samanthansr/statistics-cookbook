{
 "cells": [
  {
   "cell_type": "markdown",
   "metadata": {},
   "source": [
    "### Hypothesis Testing"
   ]
  },
  {
   "cell_type": "markdown",
   "metadata": {},
   "source": [
    "### ABTest Guide\n",
    "https://abtestguide.com/abtestsize/"
   ]
  },
  {
   "cell_type": "code",
   "execution_count": 2,
   "metadata": {},
   "outputs": [
    {
     "name": "stderr",
     "output_type": "stream",
     "text": [
      "R[write to console]: During startup - \n",
      "R[write to console]: Warning messages:\n",
      "\n",
      "R[write to console]: 1: Setting LC_COLLATE failed, using \"C\" \n",
      "\n",
      "R[write to console]: 2: Setting LC_TIME failed, using \"C\" \n",
      "\n",
      "R[write to console]: 3: Setting LC_MESSAGES failed, using \"C\" \n",
      "\n",
      "R[write to console]: 4: Setting LC_MONETARY failed, using \"C\" \n",
      "\n"
     ]
    }
   ],
   "source": [
    "%load_ext rpy2.ipython"
   ]
  },
  {
   "cell_type": "code",
   "execution_count": 3,
   "metadata": {},
   "outputs": [
    {
     "name": "stdout",
     "output_type": "stream",
     "text": [
      "\n",
      "     Two-sample comparison of proportions power calculation \n",
      "\n",
      "              n = 293.1513\n",
      "             p1 = 0.2\n",
      "             p2 = 0.3\n",
      "      sig.level = 0.05\n",
      "          power = 0.8\n",
      "    alternative = two.sided\n",
      "\n",
      "NOTE: n is number in *each* group\n",
      "\n",
      "$n\n",
      "[1] 293.1513\n",
      "\n"
     ]
    }
   ],
   "source": [
    "%%R\n",
    "\n",
    "calculate_power <- function(p1, p2, power, sig.level) {\n",
    "    a = power.prop.test(p1 = p1, \n",
    "                        p2 = p2, \n",
    "                        power, \n",
    "                        n = NULL, \n",
    "                        sig.level = sig.level,\n",
    "                        alternative = \"two.sided\")\n",
    "    print(a)\n",
    "    a['n']\n",
    "}\n",
    "\n",
    "calculate_power(0.20, 0.30, 0.80, 0.05)"
   ]
  }
 ],
 "metadata": {
  "kernelspec": {
   "display_name": "Python 3",
   "language": "python",
   "name": "python3"
  },
  "language_info": {
   "codemirror_mode": {
    "name": "ipython",
    "version": 3
   },
   "file_extension": ".py",
   "mimetype": "text/x-python",
   "name": "python",
   "nbconvert_exporter": "python",
   "pygments_lexer": "ipython3",
   "version": "3.7.3"
  }
 },
 "nbformat": 4,
 "nbformat_minor": 2
}
